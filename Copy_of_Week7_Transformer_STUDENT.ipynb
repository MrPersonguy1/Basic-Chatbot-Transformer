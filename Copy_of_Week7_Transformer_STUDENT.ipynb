{
  "nbformat": 4,
  "nbformat_minor": 0,
  "metadata": {
    "colab": {
      "provenance": [],
      "collapsed_sections": [
        "9S7qRoriMU07",
        "_NN0jWyLooGG",
        "wQqO3sa-yhoU",
        "jJyEQL2mgYVP"
      ]
    },
    "kernelspec": {
      "name": "python3",
      "display_name": "Python 3"
    },
    "language_info": {
      "name": "python"
    }
  },
  "cells": [
    {
      "cell_type": "markdown",
      "source": [
        "#🤖 Chatbot Project"
      ],
      "metadata": {
        "id": "3eJ8uqNqYQm7"
      }
    },
    {
      "cell_type": "markdown",
      "source": [
        "**Here is Langraph's Glossary of terms and functions:**\n",
        "\n",
        "https://langchain-ai.github.io/langgraph/concepts/low_level/"
      ],
      "metadata": {
        "id": "EWKdwMvSphSt"
      }
    },
    {
      "cell_type": "markdown",
      "source": [
        "##🟦Importing"
      ],
      "metadata": {
        "id": "ouA-caGwVk84"
      }
    },
    {
      "cell_type": "markdown",
      "source": [
        "![1.png](data:image/png;base64,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)"
      ],
      "metadata": {
        "id": "LEPuaxfPL2wa"
      }
    },
    {
      "cell_type": "markdown",
      "source": [
        "### Imports"
      ],
      "metadata": {
        "id": "YAGv5Pku5bMp"
      }
    },
    {
      "cell_type": "markdown",
      "source": [
        "Our imports will be simple. the tool we will be using to help us is called **langchain**. It will help us to deploy LLM applications\n",
        "\n",
        "We will need to `!pip install` some new modules. ***Import these two modules:***\n",
        "\n",
        "`langchain-core langgraph>0.2.27`\n",
        "\n",
        "`-U langchain langchain-openai`\n",
        "\n",
        "`-qU \"langchain[groq]\"`\n",
        "\n"
      ],
      "metadata": {
        "id": "pqxvOw-FY3jb"
      }
    },
    {
      "cell_type": "code",
      "source": [
        "# CODE HERE"
      ],
      "metadata": {
        "id": "EmczF-8uelvK"
      },
      "execution_count": null,
      "outputs": []
    },
    {
      "cell_type": "code",
      "source": [
        "!pip install langchain-core langgraph>0.2.27"
      ],
      "metadata": {
        "id": "mRIx2m86HfFQ"
      },
      "execution_count": null,
      "outputs": []
    },
    {
      "cell_type": "code",
      "source": [
        "!pip install -U langchain langchain-openai"
      ],
      "metadata": {
        "id": "8cb8bBZLHfBX",
        "colab": {
          "base_uri": "https://localhost:8080/"
        },
        "outputId": "ed0904b7-300c-4d90-dd67-b5f5613a4045"
      },
      "execution_count": null,
      "outputs": [
        {
          "output_type": "stream",
          "name": "stdout",
          "text": [
            "Requirement already satisfied: langchain in /usr/local/lib/python3.11/dist-packages (0.3.26)\n",
            "Requirement already satisfied: langchain-openai in /usr/local/lib/python3.11/dist-packages (0.3.28)\n",
            "Requirement already satisfied: langchain-core<1.0.0,>=0.3.66 in /usr/local/lib/python3.11/dist-packages (from langchain) (0.3.69)\n",
            "Requirement already satisfied: langchain-text-splitters<1.0.0,>=0.3.8 in /usr/local/lib/python3.11/dist-packages (from langchain) (0.3.8)\n",
            "Requirement already satisfied: langsmith>=0.1.17 in /usr/local/lib/python3.11/dist-packages (from langchain) (0.4.6)\n",
            "Requirement already satisfied: pydantic<3.0.0,>=2.7.4 in /usr/local/lib/python3.11/dist-packages (from langchain) (2.11.7)\n",
            "Requirement already satisfied: SQLAlchemy<3,>=1.4 in /usr/local/lib/python3.11/dist-packages (from langchain) (2.0.41)\n",
            "Requirement already satisfied: requests<3,>=2 in /usr/local/lib/python3.11/dist-packages (from langchain) (2.32.3)\n",
            "Requirement already satisfied: PyYAML>=5.3 in /usr/local/lib/python3.11/dist-packages (from langchain) (6.0.2)\n",
            "Requirement already satisfied: openai<2.0.0,>=1.86.0 in /usr/local/lib/python3.11/dist-packages (from langchain-openai) (1.96.1)\n",
            "Requirement already satisfied: tiktoken<1,>=0.7 in /usr/local/lib/python3.11/dist-packages (from langchain-openai) (0.9.0)\n",
            "Requirement already satisfied: tenacity!=8.4.0,<10.0.0,>=8.1.0 in /usr/local/lib/python3.11/dist-packages (from langchain-core<1.0.0,>=0.3.66->langchain) (8.5.0)\n",
            "Requirement already satisfied: jsonpatch<2.0,>=1.33 in /usr/local/lib/python3.11/dist-packages (from langchain-core<1.0.0,>=0.3.66->langchain) (1.33)\n",
            "Requirement already satisfied: typing-extensions>=4.7 in /usr/local/lib/python3.11/dist-packages (from langchain-core<1.0.0,>=0.3.66->langchain) (4.14.1)\n",
            "Requirement already satisfied: packaging>=23.2 in /usr/local/lib/python3.11/dist-packages (from langchain-core<1.0.0,>=0.3.66->langchain) (25.0)\n",
            "Requirement already satisfied: httpx<1,>=0.23.0 in /usr/local/lib/python3.11/dist-packages (from langsmith>=0.1.17->langchain) (0.28.1)\n",
            "Requirement already satisfied: orjson<4.0.0,>=3.9.14 in /usr/local/lib/python3.11/dist-packages (from langsmith>=0.1.17->langchain) (3.11.0)\n",
            "Requirement already satisfied: requests-toolbelt<2.0.0,>=1.0.0 in /usr/local/lib/python3.11/dist-packages (from langsmith>=0.1.17->langchain) (1.0.0)\n",
            "Requirement already satisfied: zstandard<0.24.0,>=0.23.0 in /usr/local/lib/python3.11/dist-packages (from langsmith>=0.1.17->langchain) (0.23.0)\n",
            "Requirement already satisfied: anyio<5,>=3.5.0 in /usr/local/lib/python3.11/dist-packages (from openai<2.0.0,>=1.86.0->langchain-openai) (4.9.0)\n",
            "Requirement already satisfied: distro<2,>=1.7.0 in /usr/local/lib/python3.11/dist-packages (from openai<2.0.0,>=1.86.0->langchain-openai) (1.9.0)\n",
            "Requirement already satisfied: jiter<1,>=0.4.0 in /usr/local/lib/python3.11/dist-packages (from openai<2.0.0,>=1.86.0->langchain-openai) (0.10.0)\n",
            "Requirement already satisfied: sniffio in /usr/local/lib/python3.11/dist-packages (from openai<2.0.0,>=1.86.0->langchain-openai) (1.3.1)\n",
            "Requirement already satisfied: tqdm>4 in /usr/local/lib/python3.11/dist-packages (from openai<2.0.0,>=1.86.0->langchain-openai) (4.67.1)\n",
            "Requirement already satisfied: annotated-types>=0.6.0 in /usr/local/lib/python3.11/dist-packages (from pydantic<3.0.0,>=2.7.4->langchain) (0.7.0)\n",
            "Requirement already satisfied: pydantic-core==2.33.2 in /usr/local/lib/python3.11/dist-packages (from pydantic<3.0.0,>=2.7.4->langchain) (2.33.2)\n",
            "Requirement already satisfied: typing-inspection>=0.4.0 in /usr/local/lib/python3.11/dist-packages (from pydantic<3.0.0,>=2.7.4->langchain) (0.4.1)\n",
            "Requirement already satisfied: charset-normalizer<4,>=2 in /usr/local/lib/python3.11/dist-packages (from requests<3,>=2->langchain) (3.4.2)\n",
            "Requirement already satisfied: idna<4,>=2.5 in /usr/local/lib/python3.11/dist-packages (from requests<3,>=2->langchain) (3.10)\n",
            "Requirement already satisfied: urllib3<3,>=1.21.1 in /usr/local/lib/python3.11/dist-packages (from requests<3,>=2->langchain) (2.4.0)\n",
            "Requirement already satisfied: certifi>=2017.4.17 in /usr/local/lib/python3.11/dist-packages (from requests<3,>=2->langchain) (2025.7.14)\n",
            "Requirement already satisfied: greenlet>=1 in /usr/local/lib/python3.11/dist-packages (from SQLAlchemy<3,>=1.4->langchain) (3.2.3)\n",
            "Requirement already satisfied: regex>=2022.1.18 in /usr/local/lib/python3.11/dist-packages (from tiktoken<1,>=0.7->langchain-openai) (2024.11.6)\n",
            "Requirement already satisfied: httpcore==1.* in /usr/local/lib/python3.11/dist-packages (from httpx<1,>=0.23.0->langsmith>=0.1.17->langchain) (1.0.9)\n",
            "Requirement already satisfied: h11>=0.16 in /usr/local/lib/python3.11/dist-packages (from httpcore==1.*->httpx<1,>=0.23.0->langsmith>=0.1.17->langchain) (0.16.0)\n",
            "Requirement already satisfied: jsonpointer>=1.9 in /usr/local/lib/python3.11/dist-packages (from jsonpatch<2.0,>=1.33->langchain-core<1.0.0,>=0.3.66->langchain) (3.0.0)\n"
          ]
        }
      ]
    },
    {
      "cell_type": "code",
      "source": [
        "!pip install -qU \"langchain[groq]\""
      ],
      "metadata": {
        "id": "sGEUE9gKHe-3"
      },
      "execution_count": null,
      "outputs": []
    },
    {
      "cell_type": "code",
      "source": [
        "# !pip install langchain-core langgraph>0.2.27\n",
        "# !pip install -U langchain langchain-openai\n",
        "# !pip install -qU \"langchain[groq]\""
      ],
      "metadata": {
        "id": "zl6Mm7pnHe8n"
      },
      "execution_count": null,
      "outputs": []
    },
    {
      "cell_type": "markdown",
      "source": [
        "###⌛API Key"
      ],
      "metadata": {
        "id": "H8a2En4gMIjn"
      }
    },
    {
      "cell_type": "markdown",
      "source": [
        "You will need to access an API key in order to use langchain's resources."
      ],
      "metadata": {
        "id": "8jKaHvFdMKSo"
      }
    },
    {
      "cell_type": "code",
      "source": [
        "api_key='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'"
      ],
      "metadata": {
        "id": "gYA5_i5Relsu"
      },
      "execution_count": null,
      "outputs": []
    },
    {
      "cell_type": "markdown",
      "source": [
        "***We have to add our Langchain API Key to our environmental variables***\n",
        "\n",
        "\n",
        "> Environmental variables are secure pieces of data that we want to store in the computer memory so we dont have to explicitely have them (API Keys) in the code. It's similar to defining variables.\n",
        "\n",
        "***Use `os.environ[]` to create data with a name and a value. Set it for our API key and our tracing***\n",
        "\n",
        "\n",
        "TIP: Some extra imports are useful for us in creating the model:\n",
        "\n",
        "> `getpass` is used to  prompt the user for sensitive inputs (such as API keys). It will look like: `Enter API key for Groq:`\n",
        "\n",
        "> `os` is used to work with environmental variables\n",
        "\n",
        "> `langchain.chat_models` is used for all the chat models from langchain"
      ],
      "metadata": {
        "id": "Gqj8_mx_dgXc"
      }
    },
    {
      "cell_type": "code",
      "source": [
        "# CODE HERE\n",
        "import getpass\n",
        "import os\n",
        "\n",
        "os.environ['LANGSMITH_TRACING'] = 'true'\n",
        "os.environ['LANGSMITH_API_KEY'] = getpass.getpass(\"ENTER YOUR API KEY HERE: \")"
      ],
      "metadata": {
        "id": "X_MnhIoDdf7b",
        "colab": {
          "base_uri": "https://localhost:8080/"
        },
        "outputId": "4e3472f7-4915-40b5-8de2-b9f0616e2f4a"
      },
      "execution_count": null,
      "outputs": [
        {
          "name": "stdout",
          "output_type": "stream",
          "text": [
            "ENTER YOUR API KEY HERE: ··········\n"
          ]
        }
      ]
    },
    {
      "cell_type": "code",
      "source": [
        "# CODE HERE\n",
        "import getpass\n",
        "import os\n",
        "from langchain.chat_models import init_chat_model\n",
        "\n",
        "if not os.environ.get(\"GROQ_API_KEY\"):\n",
        "  os.environ[\"GROQ_API_KEY\"] = getpass.getpass(\"Enter your GROQ API key: \")\n"
      ],
      "metadata": {
        "id": "PAEUI8MQeq4o"
      },
      "execution_count": null,
      "outputs": []
    },
    {
      "cell_type": "markdown",
      "source": [
        "## 🟩Model Building\n"
      ],
      "metadata": {
        "id": "FXB3Xo93OPQX"
      }
    },
    {
      "cell_type": "markdown",
      "source": [
        "![3.png](data:image/png;base64,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)"
      ],
      "metadata": {
        "id": "l5X-2nllORun"
      }
    },
    {
      "cell_type": "markdown",
      "source": [
        "### Building The Chatbot\n"
      ],
      "metadata": {
        "id": "dVYJ3dsL6f7I"
      }
    },
    {
      "cell_type": "markdown",
      "source": [
        "Now we can initialize our model. ***Call `init_chat_model()` and use `llama3-8b-8192` as the model and `groq` as the model provider***"
      ],
      "metadata": {
        "id": "RJArPRh0wqbN"
      }
    },
    {
      "cell_type": "code",
      "source": [
        "model = init_chat_model(\"llama3-8b-8192\", model_provider=\"groq\")"
      ],
      "metadata": {
        "id": "ubUsbvM1elSC"
      },
      "execution_count": null,
      "outputs": []
    },
    {
      "cell_type": "markdown",
      "source": [
        "## 🟪Testing"
      ],
      "metadata": {
        "id": "TACru-kAca8P"
      }
    },
    {
      "cell_type": "markdown",
      "source": [
        "![5.png](data:image/png;base64,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)"
      ],
      "metadata": {
        "id": "jAom8i_sy0e9"
      }
    },
    {
      "cell_type": "markdown",
      "source": [
        "###⌛Model Testing"
      ],
      "metadata": {
        "id": "9BCcxkNr2ktt"
      }
    },
    {
      "cell_type": "markdown",
      "source": [
        "There's a lot we can do with this model. for example, if we want to give the model a message from a human, we do so with `langchain_core.messages import HumanMessage`\n",
        "\n",
        "***Import `HumanMessage` from `langchain_core.messages` and use `model.invoke()` to have the model generate a response. Print the `content` of the response***\n",
        "\n",
        "> TIP: `The HumanMessage()` function takes `content` as a parameter where you should put a string"
      ],
      "metadata": {
        "id": "KdokITXjhRqV"
      }
    },
    {
      "cell_type": "code",
      "source": [
        "# CODE HERE\n",
        "from langchain_core.messages import HumanMessage\n",
        "\n",
        "response = model.invoke([HumanMessage(content = \"I am awesome!\")])\n",
        "response.content"
      ],
      "metadata": {
        "id": "9iJA08r6fb1R",
        "colab": {
          "base_uri": "https://localhost:8080/",
          "height": 35
        },
        "outputId": "107f36c5-fa53-4b86-c514-a19d3e5eb629"
      },
      "execution_count": null,
      "outputs": [
        {
          "output_type": "execute_result",
          "data": {
            "text/plain": [
              "\"That's amazing to hear! It's great to have a positive and confident attitude. Being awesome is all about embracing your unique qualities and rocking them with pride. What makes you feel awesome today?\""
            ],
            "application/vnd.google.colaboratory.intrinsic+json": {
              "type": "string"
            }
          },
          "metadata": {},
          "execution_count": 37
        }
      ]
    },
    {
      "cell_type": "markdown",
      "source": [
        "If we want to have a premade conversation (and have the chatbot see it as previous context) we can do that too with `AIMessage`. ***Use `model.invoke` and multiple `HumanMessage()` and `AIMessage()` functions to see if the model logically follows prompts.***"
      ],
      "metadata": {
        "id": "g-W4vCjCigLT"
      }
    },
    {
      "cell_type": "code",
      "source": [
        "# CODE HERE\n",
        "from langchain_core.messages import AIMessage\n",
        "\n",
        "response = model.invoke([HumanMessage(content = \"I like cheese, especially Swiss, Cheddar, and Provolone, do you?\"), AIMessage(content = \"Ew no I hate cheese, it makes me barf and it smells bad!\"), HumanMessage(content = \"Oh I am sorry to hear that, do you remember what cheeses I like?\")])\n",
        "response.content"
      ],
      "metadata": {
        "id": "fzWXiSqBi0Wb",
        "colab": {
          "base_uri": "https://localhost:8080/",
          "height": 53
        },
        "outputId": "7efa49e7-0c7a-41e5-b6ac-5ce728bd91bc"
      },
      "execution_count": null,
      "outputs": [
        {
          "output_type": "execute_result",
          "data": {
            "text/plain": [
              "\"Don't worry about it! As a digital AI assistant, I don't have personal preferences, taste buds, or a stomach, so I don't have the ability to like or dislike cheese (or any food). I'm just here to provide information and answer your questions to the best of my abilities. But I do remember that you mentioned you like Swiss, Cheddar, and Provolone cheese!\""
            ],
            "application/vnd.google.colaboratory.intrinsic+json": {
              "type": "string"
            }
          },
          "metadata": {},
          "execution_count": 38
        }
      ]
    },
    {
      "cell_type": "markdown",
      "source": [
        "Now, instead of the model losing its memory everytime we re-run a cell, let's keep the memory instead. We will use a `MemorySaver` to keep track of all the changes.\n",
        "\n",
        "***Import***:\n",
        "\n",
        "`from langgraph.checkpoint.memory import MemorySaver`\n",
        "\n",
        "`from langgraph.graph import START, MessagesState, StateGraph`\n",
        "\n",
        "***Make a graph using the `StateGraph()` function. After define a function to call the model using `model.invoke()`. Then define a `START` node and another node that is `call_model`. Finally, add memory using `MemorySaver()***\n"
      ],
      "metadata": {
        "id": "qe4kS_f1jSs9"
      }
    },
    {
      "cell_type": "code",
      "source": [
        "# CODE HERE\n",
        "from langgraph.checkpoint.memory import MemorySaver\n",
        "from langgraph.graph import START, MessagesState, StateGraph\n",
        "\n",
        "conversation = StateGraph(state_schema = MessagesState)\n",
        "\n",
        "def call_model (state):\n",
        "  response = model.invoke(state[\"messages\"])\n",
        "  return {\"messages\":response}\n",
        "\n",
        "conversation.add_edge(START, \"model\")\n",
        "conversation.add_node(\"model\", call_model)\n",
        "\n",
        "memory = MemorySaver()\n",
        "app = conversation.compile(checkpointer = memory)"
      ],
      "metadata": {
        "id": "EUuZCRUajcIF"
      },
      "execution_count": null,
      "outputs": []
    },
    {
      "cell_type": "markdown",
      "source": [
        "Using the config below, test out different queries to experiment with Llama on."
      ],
      "metadata": {
        "id": "Du-nvx0wnmHa"
      }
    },
    {
      "cell_type": "code",
      "source": [
        "config = {\"configurable\": {\"thread_id\": \"abc123\"}}\n",
        "query = \"Hi! I'm Bob.\"\n",
        "\n",
        "input_messages = [HumanMessage(query)]\n",
        "output = app.invoke({\"messages\": input_messages}, config)\n",
        "output[\"messages\"][-1].pretty_print()  # output contains all messages in state"
      ],
      "metadata": {
        "colab": {
          "base_uri": "https://localhost:8080/"
        },
        "id": "nzEAhYk_nnk2",
        "outputId": "c9abddcf-6f42-43a4-f769-8a5503cf01d9"
      },
      "execution_count": null,
      "outputs": [
        {
          "output_type": "stream",
          "name": "stdout",
          "text": [
            "==================================\u001b[1m Ai Message \u001b[0m==================================\n",
            "\n",
            "Hello Bob! It's nice to meet you. Is there something I can help you with or would you like to chat?\n"
          ]
        }
      ]
    },
    {
      "cell_type": "markdown",
      "source": [
        "Let's make our above code easier to manage. ***Transform the above code into a re-usable function and call it `prompt_llm()`. Have another function called `chatbot()` and have it use the `input()` function to ask for your prompt.***"
      ],
      "metadata": {
        "id": "bKw_0WsYnk1W"
      }
    },
    {
      "cell_type": "code",
      "source": [
        "# CODE HERE\n",
        "def prompt_llm(prompt):\n",
        "  input_messages = [HumanMessage(prompt)]\n",
        "  output = app.invoke({\"messages\": input_messages}, config)\n",
        "\n",
        "  return output[\"messages\"][-1].pretty_print()\n",
        "\n",
        "def chatbot(chat):\n",
        "  while chat:\n",
        "    prompt = input(\"Please type your prompt: \")\n",
        "    prompt_llm(prompt)\n",
        "\n",
        "chatbot(True)"
      ],
      "metadata": {
        "id": "iXPxisp1nsm5",
        "colab": {
          "base_uri": "https://localhost:8080/",
          "height": 460
        },
        "outputId": "71dfdb9b-3d02-409a-cd54-e31f90bbc7c4"
      },
      "execution_count": null,
      "outputs": [
        {
          "output_type": "stream",
          "name": "stdout",
          "text": [
            "Please type your prompt: Today the weather was really sunny, what do you think?\n",
            "==================================\u001b[1m Ai Message \u001b[0m==================================\n",
            "\n",
            "I'm just an AI, I don't have the ability to perceive the physical world, so I don't have a personal opinion or observation about the weather. But I'm happy to chat with you about it! How did you enjoy the sunny weather? Did you get outside and enjoy it?\n",
            "Please type your prompt: end the chat\n",
            "==================================\u001b[1m Ai Message \u001b[0m==================================\n",
            "\n",
            "It was nice chatting with you, Bob! If you want to talk again or need anything in the future, feel free to start a new conversation. Have a great day!\n"
          ]
        },
        {
          "output_type": "error",
          "ename": "KeyboardInterrupt",
          "evalue": "Interrupted by user",
          "traceback": [
            "\u001b[0;31m---------------------------------------------------------------------------\u001b[0m",
            "\u001b[0;31mKeyboardInterrupt\u001b[0m                         Traceback (most recent call last)",
            "\u001b[0;32m/tmp/ipython-input-51-3981377218.py\u001b[0m in \u001b[0;36m<cell line: 0>\u001b[0;34m()\u001b[0m\n\u001b[1;32m     11\u001b[0m     \u001b[0mprompt_llm\u001b[0m\u001b[0;34m(\u001b[0m\u001b[0mprompt\u001b[0m\u001b[0;34m)\u001b[0m\u001b[0;34m\u001b[0m\u001b[0;34m\u001b[0m\u001b[0m\n\u001b[1;32m     12\u001b[0m \u001b[0;34m\u001b[0m\u001b[0m\n\u001b[0;32m---> 13\u001b[0;31m \u001b[0mchatbot\u001b[0m\u001b[0;34m(\u001b[0m\u001b[0;32mTrue\u001b[0m\u001b[0;34m)\u001b[0m\u001b[0;34m\u001b[0m\u001b[0;34m\u001b[0m\u001b[0m\n\u001b[0m",
            "\u001b[0;32m/tmp/ipython-input-51-3981377218.py\u001b[0m in \u001b[0;36mchatbot\u001b[0;34m(chat)\u001b[0m\n\u001b[1;32m      8\u001b[0m \u001b[0;32mdef\u001b[0m \u001b[0mchatbot\u001b[0m\u001b[0;34m(\u001b[0m\u001b[0mchat\u001b[0m\u001b[0;34m)\u001b[0m\u001b[0;34m:\u001b[0m\u001b[0;34m\u001b[0m\u001b[0;34m\u001b[0m\u001b[0m\n\u001b[1;32m      9\u001b[0m   \u001b[0;32mwhile\u001b[0m \u001b[0mchat\u001b[0m\u001b[0;34m:\u001b[0m\u001b[0;34m\u001b[0m\u001b[0;34m\u001b[0m\u001b[0m\n\u001b[0;32m---> 10\u001b[0;31m     \u001b[0mprompt\u001b[0m \u001b[0;34m=\u001b[0m \u001b[0minput\u001b[0m\u001b[0;34m(\u001b[0m\u001b[0;34m\"Please type your prompt: \"\u001b[0m\u001b[0;34m)\u001b[0m\u001b[0;34m\u001b[0m\u001b[0;34m\u001b[0m\u001b[0m\n\u001b[0m\u001b[1;32m     11\u001b[0m     \u001b[0mprompt_llm\u001b[0m\u001b[0;34m(\u001b[0m\u001b[0mprompt\u001b[0m\u001b[0;34m)\u001b[0m\u001b[0;34m\u001b[0m\u001b[0;34m\u001b[0m\u001b[0m\n\u001b[1;32m     12\u001b[0m \u001b[0;34m\u001b[0m\u001b[0m\n",
            "\u001b[0;32m/usr/local/lib/python3.11/dist-packages/ipykernel/kernelbase.py\u001b[0m in \u001b[0;36mraw_input\u001b[0;34m(self, prompt)\u001b[0m\n\u001b[1;32m   1175\u001b[0m                 \u001b[0;34m\"raw_input was called, but this frontend does not support input requests.\"\u001b[0m\u001b[0;34m\u001b[0m\u001b[0;34m\u001b[0m\u001b[0m\n\u001b[1;32m   1176\u001b[0m             )\n\u001b[0;32m-> 1177\u001b[0;31m         return self._input_request(\n\u001b[0m\u001b[1;32m   1178\u001b[0m             \u001b[0mstr\u001b[0m\u001b[0;34m(\u001b[0m\u001b[0mprompt\u001b[0m\u001b[0;34m)\u001b[0m\u001b[0;34m,\u001b[0m\u001b[0;34m\u001b[0m\u001b[0;34m\u001b[0m\u001b[0m\n\u001b[1;32m   1179\u001b[0m             \u001b[0mself\u001b[0m\u001b[0;34m.\u001b[0m\u001b[0m_parent_ident\u001b[0m\u001b[0;34m[\u001b[0m\u001b[0;34m\"shell\"\u001b[0m\u001b[0;34m]\u001b[0m\u001b[0;34m,\u001b[0m\u001b[0;34m\u001b[0m\u001b[0;34m\u001b[0m\u001b[0m\n",
            "\u001b[0;32m/usr/local/lib/python3.11/dist-packages/ipykernel/kernelbase.py\u001b[0m in \u001b[0;36m_input_request\u001b[0;34m(self, prompt, ident, parent, password)\u001b[0m\n\u001b[1;32m   1217\u001b[0m             \u001b[0;32mexcept\u001b[0m \u001b[0mKeyboardInterrupt\u001b[0m\u001b[0;34m:\u001b[0m\u001b[0;34m\u001b[0m\u001b[0;34m\u001b[0m\u001b[0m\n\u001b[1;32m   1218\u001b[0m                 \u001b[0;31m# re-raise KeyboardInterrupt, to truncate traceback\u001b[0m\u001b[0;34m\u001b[0m\u001b[0;34m\u001b[0m\u001b[0m\n\u001b[0;32m-> 1219\u001b[0;31m                 \u001b[0;32mraise\u001b[0m \u001b[0mKeyboardInterrupt\u001b[0m\u001b[0;34m(\u001b[0m\u001b[0;34m\"Interrupted by user\"\u001b[0m\u001b[0;34m)\u001b[0m \u001b[0;32mfrom\u001b[0m \u001b[0;32mNone\u001b[0m\u001b[0;34m\u001b[0m\u001b[0;34m\u001b[0m\u001b[0m\n\u001b[0m\u001b[1;32m   1220\u001b[0m             \u001b[0;32mexcept\u001b[0m \u001b[0mException\u001b[0m\u001b[0;34m:\u001b[0m\u001b[0;34m\u001b[0m\u001b[0;34m\u001b[0m\u001b[0m\n\u001b[1;32m   1221\u001b[0m                 \u001b[0mself\u001b[0m\u001b[0;34m.\u001b[0m\u001b[0mlog\u001b[0m\u001b[0;34m.\u001b[0m\u001b[0mwarning\u001b[0m\u001b[0;34m(\u001b[0m\u001b[0;34m\"Invalid Message:\"\u001b[0m\u001b[0;34m,\u001b[0m \u001b[0mexc_info\u001b[0m\u001b[0;34m=\u001b[0m\u001b[0;32mTrue\u001b[0m\u001b[0;34m)\u001b[0m\u001b[0;34m\u001b[0m\u001b[0;34m\u001b[0m\u001b[0m\n",
            "\u001b[0;31mKeyboardInterrupt\u001b[0m: Interrupted by user"
          ]
        }
      ]
    }
  ]
}